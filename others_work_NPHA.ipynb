{
 "cells": [
  {
   "cell_type": "code",
   "execution_count": 3,
   "id": "70e692bb-b9a7-4910-bed4-aebac70a134d",
   "metadata": {},
   "outputs": [],
   "source": [
    "# This Python 3 environment comes with many helpful analytics libraries installed\n",
    "# It is defined by the kaggle/python Docker image: https://github.com/kaggle/docker-python\n",
    "# For example, here's several helpful packages to load\n",
    "\n",
    "import numpy as np # linear algebra\n",
    "import pandas as pd # data processing, CSV file I/O (e.g. pd.read_csv)\n",
    "import matplotlib.pyplot as plt\n",
    "import seaborn as sns\n",
    "from sklearn.ensemble import RandomForestClassifier\n",
    "from sklearn.model_selection import train_test_split, cross_val_score\n",
    "from sklearn.preprocessing import MinMaxScaler\n",
    "from sklearn.metrics import accuracy_score, recall_score, classification_report, mean_squared_error\n",
    "from sklearn.metrics import confusion_matrix, ConfusionMatrixDisplay\n",
    "from sklearn.tree import DecisionTreeClassifier\n",
    "from sklearn.linear_model import LogisticRegression\n",
    "from sklearn.model_selection import cross_val_score, StratifiedKFold\n",
    "from skopt import BayesSearchCV\n",
    "from skopt.space import Real, Integer, Categorical\n",
    "from sklearn.svm import SVC\n",
    "from imblearn.over_sampling import SMOTE\n",
    "from collections import Counter\n",
    "import warnings\n",
    "warnings.filterwarnings(\"ignore\")\n",
    "\n"
   ]
  },
  {
   "cell_type": "code",
   "execution_count": 5,
   "id": "9cda23f0-ca99-415d-93eb-d2ddc94eb511",
   "metadata": {},
   "outputs": [
    {
     "name": "stdout",
     "output_type": "stream",
     "text": [
      "<class 'pandas.core.frame.DataFrame'>\n",
      "RangeIndex: 714 entries, 0 to 713\n",
      "Data columns (total 15 columns):\n",
      " #   Column                                      Non-Null Count  Dtype\n",
      "---  ------                                      --------------  -----\n",
      " 0   Number of Doctors Visited                   714 non-null    int64\n",
      " 1   Age                                         714 non-null    int64\n",
      " 2   Phyiscal Health                             714 non-null    int64\n",
      " 3   Mental Health                               714 non-null    int64\n",
      " 4   Dental Health                               714 non-null    int64\n",
      " 5   Employment                                  714 non-null    int64\n",
      " 6   Stress Keeps Patient from Sleeping          714 non-null    int64\n",
      " 7   Medication Keeps Patient from Sleeping      714 non-null    int64\n",
      " 8   Pain Keeps Patient from Sleeping            714 non-null    int64\n",
      " 9   Bathroom Needs Keeps Patient from Sleeping  714 non-null    int64\n",
      " 10  Uknown Keeps Patient from Sleeping          714 non-null    int64\n",
      " 11  Trouble Sleeping                            714 non-null    int64\n",
      " 12  Prescription Sleep Medication               714 non-null    int64\n",
      " 13  Race                                        714 non-null    int64\n",
      " 14  Gender                                      714 non-null    int64\n",
      "dtypes: int64(15)\n",
      "memory usage: 83.8 KB\n"
     ]
    }
   ],
   "source": [
    "df = pd.read_csv('NPHA-doctor-visits.csv')\n",
    "df.info()"
   ]
  },
  {
   "cell_type": "code",
   "execution_count": 7,
   "id": "5406411b-2e26-4f47-b3a2-853457d7226e",
   "metadata": {},
   "outputs": [
    {
     "name": "stdout",
     "output_type": "stream",
     "text": [
      "   Number of Doctors Visited  Age  Phyiscal Health  Mental Health  \\\n",
      "0                          3    2                4              3   \n",
      "1                          2    2                4              2   \n",
      "2                          3    2                3              2   \n",
      "\n",
      "   Dental Health  Employment  Stress Keeps Patient from Sleeping  \\\n",
      "0              3           3                                   0   \n",
      "1              3           3                                   1   \n",
      "2              3           3                                   0   \n",
      "\n",
      "   Medication Keeps Patient from Sleeping  Pain Keeps Patient from Sleeping  \\\n",
      "0                                       0                                 0   \n",
      "1                                       0                                 0   \n",
      "2                                       0                                 0   \n",
      "\n",
      "   Bathroom Needs Keeps Patient from Sleeping  \\\n",
      "0                                           0   \n",
      "1                                           1   \n",
      "2                                           0   \n",
      "\n",
      "   Uknown Keeps Patient from Sleeping  Trouble Sleeping  \\\n",
      "0                                   1                 2   \n",
      "1                                   0                 3   \n",
      "2                                   1                 3   \n",
      "\n",
      "   Prescription Sleep Medication  Race  Gender  \n",
      "0                              3     1       2  \n",
      "1                              3     1       1  \n",
      "2                              3     4       1  \n"
     ]
    }
   ],
   "source": [
    "print(df.head(3))"
   ]
  },
  {
   "cell_type": "markdown",
   "id": "9b2e2ebc-9433-4187-aab5-53a50308b1ae",
   "metadata": {},
   "source": [
    "Data Cleaning\n",
    "Handling -1(Refused), -2(Not asked) values in the features."
   ]
  },
  {
   "cell_type": "code",
   "execution_count": 9,
   "id": "f8f57eaf-98bb-47d1-ae3b-7adb1ee8cf7a",
   "metadata": {},
   "outputs": [
    {
     "name": "stdout",
     "output_type": "stream",
     "text": [
      "Number of Doctors Visited 0\n",
      "Age 0\n",
      "Phyiscal Health 1\n",
      "Mental Health 10\n",
      "Dental Health 3\n",
      "Employment 0\n",
      "Stress Keeps Patient from Sleeping 0\n",
      "Medication Keeps Patient from Sleeping 0\n",
      "Pain Keeps Patient from Sleeping 0\n",
      "Bathroom Needs Keeps Patient from Sleeping 0\n",
      "Uknown Keeps Patient from Sleeping 0\n",
      "Trouble Sleeping 2\n",
      "Prescription Sleep Medication 2\n",
      "Race 0\n",
      "Gender 0\n"
     ]
    }
   ],
   "source": [
    "# Check missing values.\n",
    "df.isnull().sum()\n",
    "\n",
    "# Filter out the rows with values -1 or -2 in the features.\n",
    "for _, col in enumerate(df.columns):\n",
    "    count = df[col].isin([-1, -2]).sum()\n",
    "    print(col, count)\n",
    "    df = df[~df[col].isin([-1, -2])]"
   ]
  },
  {
   "cell_type": "code",
   "execution_count": 11,
   "id": "37bc0d02-c187-4c2e-a897-559bd59e09fe",
   "metadata": {},
   "outputs": [
    {
     "name": "stdout",
     "output_type": "stream",
     "text": [
      "Number of Doctors Visited\n",
      "2    363\n",
      "3    207\n",
      "1    126\n",
      "Name: count, dtype: int64\n"
     ]
    }
   ],
   "source": [
    "# Calculate the class distribution\n",
    "class_distribution = df['Number of Doctors Visited'].value_counts()\n",
    "print(class_distribution)"
   ]
  },
  {
   "cell_type": "code",
   "execution_count": null,
   "id": "fbce8f2e-29f3-4fdd-9728-21bbb796e291",
   "metadata": {},
   "outputs": [],
   "source": []
  }
 ],
 "metadata": {
  "kernelspec": {
   "display_name": "Python 3 (ipykernel)",
   "language": "python",
   "name": "python3"
  },
  "language_info": {
   "codemirror_mode": {
    "name": "ipython",
    "version": 3
   },
   "file_extension": ".py",
   "mimetype": "text/x-python",
   "name": "python",
   "nbconvert_exporter": "python",
   "pygments_lexer": "ipython3",
   "version": "3.12.3"
  }
 },
 "nbformat": 4,
 "nbformat_minor": 5
}
