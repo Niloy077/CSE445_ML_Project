{
 "cells": [
  {
   "cell_type": "code",
   "execution_count": 6,
   "id": "4c3ba6e5-17ac-4e8d-83ef-a896bac2e109",
   "metadata": {},
   "outputs": [],
   "source": [
    "# Import libraries\n",
    "import pandas as pd\n",
    "from sklearn.model_selection import train_test_split, GridSearchCV\n",
    "from sklearn.svm import SVC\n",
    "from sklearn.preprocessing import StandardScaler\n",
    "from sklearn.pipeline import Pipeline\n",
    "from sklearn.metrics import accuracy_score\n"
   ]
  },
  {
   "cell_type": "code",
   "execution_count": 7,
   "id": "6849a384-dbf5-48e5-a733-d27681c2f813",
   "metadata": {},
   "outputs": [
    {
     "name": "stdout",
     "output_type": "stream",
     "text": [
      "   Number of Doctors Visited  Age  Phyiscal Health  Mental Health  \\\n",
      "0                          3    2                4              3   \n",
      "1                          2    2                4              2   \n",
      "2                          3    2                3              2   \n",
      "3                          1    2                3              2   \n",
      "4                          3    2                3              3   \n",
      "\n",
      "   Dental Health  Employment  Stress Keeps Patient from Sleeping  \\\n",
      "0              3           3                                   0   \n",
      "1              3           3                                   1   \n",
      "2              3           3                                   0   \n",
      "3              3           3                                   0   \n",
      "4              3           3                                   1   \n",
      "\n",
      "   Medication Keeps Patient from Sleeping  Pain Keeps Patient from Sleeping  \\\n",
      "0                                       0                                 0   \n",
      "1                                       0                                 0   \n",
      "2                                       0                                 0   \n",
      "3                                       0                                 0   \n",
      "4                                       0                                 0   \n",
      "\n",
      "   Bathroom Needs Keeps Patient from Sleeping  \\\n",
      "0                                           0   \n",
      "1                                           1   \n",
      "2                                           0   \n",
      "3                                           1   \n",
      "4                                           0   \n",
      "\n",
      "   Uknown Keeps Patient from Sleeping  Trouble Sleeping  \\\n",
      "0                                   1                 2   \n",
      "1                                   0                 3   \n",
      "2                                   1                 3   \n",
      "3                                   0                 3   \n",
      "4                                   0                 2   \n",
      "\n",
      "   Prescription Sleep Medication  Race  Gender  \n",
      "0                              3     1       2  \n",
      "1                              3     1       1  \n",
      "2                              3     4       1  \n",
      "3                              3     4       2  \n",
      "4                              3     1       2  \n",
      "<class 'pandas.core.frame.DataFrame'>\n",
      "RangeIndex: 714 entries, 0 to 713\n",
      "Data columns (total 15 columns):\n",
      " #   Column                                      Non-Null Count  Dtype\n",
      "---  ------                                      --------------  -----\n",
      " 0   Number of Doctors Visited                   714 non-null    int64\n",
      " 1   Age                                         714 non-null    int64\n",
      " 2   Phyiscal Health                             714 non-null    int64\n",
      " 3   Mental Health                               714 non-null    int64\n",
      " 4   Dental Health                               714 non-null    int64\n",
      " 5   Employment                                  714 non-null    int64\n",
      " 6   Stress Keeps Patient from Sleeping          714 non-null    int64\n",
      " 7   Medication Keeps Patient from Sleeping      714 non-null    int64\n",
      " 8   Pain Keeps Patient from Sleeping            714 non-null    int64\n",
      " 9   Bathroom Needs Keeps Patient from Sleeping  714 non-null    int64\n",
      " 10  Uknown Keeps Patient from Sleeping          714 non-null    int64\n",
      " 11  Trouble Sleeping                            714 non-null    int64\n",
      " 12  Prescription Sleep Medication               714 non-null    int64\n",
      " 13  Race                                        714 non-null    int64\n",
      " 14  Gender                                      714 non-null    int64\n",
      "dtypes: int64(15)\n",
      "memory usage: 83.8 KB\n",
      "None\n"
     ]
    }
   ],
   "source": [
    "# Load the dataset\n",
    "data = pd.read_csv(\"C:/Users/Shuvoprime/Documents/NPHA-doctor-visits.csv\")\n",
    "\n",
    "# Check the dataset\n",
    "print(data.head())\n",
    "print(data.info())\n",
    "\n",
    "# Split features (X) and target variable (y)\n",
    "X = data.drop('Trouble Sleeping', axis=1)  # Replace with your target column\n",
    "y = data['Trouble Sleeping']  # Replace with your target column\n",
    "\n",
    "# Split the data into training and test sets\n",
    "X_train, X_test, y_train, y_test = train_test_split(X, y, test_size=0.3, random_state=42)\n"
   ]
  },
  {
   "cell_type": "code",
   "execution_count": 8,
   "id": "f590ed9d-aae9-40c6-96d9-26c6edbf5b92",
   "metadata": {},
   "outputs": [],
   "source": [
    "from sklearn.pipeline import Pipeline\n",
    "\n",
    "# Define the SVM pipeline\n",
    "pipe = Pipeline([\n",
    "    ('scaler', StandardScaler()),  # Standardize features\n",
    "    ('svm', SVC(random_state=42))  # Support Vector Machine\n",
    "])\n"
   ]
  },
  {
   "cell_type": "code",
   "execution_count": 9,
   "id": "d8928db3-2d62-459f-b512-e993cce85136",
   "metadata": {},
   "outputs": [
    {
     "name": "stderr",
     "output_type": "stream",
     "text": [
      "C:\\Python312\\Lib\\site-packages\\sklearn\\model_selection\\_split.py:776: UserWarning: The least populated class in y has only 2 members, which is less than n_splits=5.\n",
      "  warnings.warn(\n"
     ]
    },
    {
     "name": "stdout",
     "output_type": "stream",
     "text": [
      "Best parameters for RBF kernel: {'svm__C': 1, 'svm__gamma': 0.01, 'svm__kernel': 'rbf'}\n",
      "Best accuracy for RBF kernel: 0.5992323232323231\n"
     ]
    }
   ],
   "source": [
    "# Define parameter grid for RBF kernel\n",
    "param_grid_rbf = {\n",
    "    'svm__kernel': ['rbf'],\n",
    "    'svm__C': [0.1, 1, 10, 100],\n",
    "    'svm__gamma': [0.001, 0.01, 0.1, 1]\n",
    "}\n",
    "\n",
    "# Grid search for RBF kernel\n",
    "grid_rbf = GridSearchCV(pipe, param_grid_rbf, cv=5, scoring='accuracy')\n",
    "grid_rbf.fit(X_train, y_train)\n",
    "\n",
    "# Best parameters and accuracy for RBF kernel\n",
    "print(\"Best parameters for RBF kernel:\", grid_rbf.best_params_)\n",
    "print(\"Best accuracy for RBF kernel:\", grid_rbf.best_score_)\n"
   ]
  },
  {
   "cell_type": "code",
   "execution_count": 10,
   "id": "dd424eaf-a96f-4f34-a05e-f769a1353917",
   "metadata": {},
   "outputs": [
    {
     "name": "stderr",
     "output_type": "stream",
     "text": [
      "C:\\Python312\\Lib\\site-packages\\sklearn\\model_selection\\_split.py:776: UserWarning: The least populated class in y has only 2 members, which is less than n_splits=5.\n",
      "  warnings.warn(\n"
     ]
    },
    {
     "name": "stdout",
     "output_type": "stream",
     "text": [
      "Best parameters for Polynomial kernel: {'svm__C': 1, 'svm__degree': 2, 'svm__gamma': 'auto', 'svm__kernel': 'poly'}\n",
      "Best accuracy for Polynomial kernel: 0.5551919191919192\n"
     ]
    }
   ],
   "source": [
    "# Define parameter grid for Polynomial kernel\n",
    "param_grid_poly = {\n",
    "    'svm__kernel': ['poly'],\n",
    "    'svm__C': [0.1, 1, 10, 100],\n",
    "    'svm__degree': [2, 3, 4],\n",
    "    'svm__gamma': ['scale', 'auto']\n",
    "}\n",
    "\n",
    "# Grid search for Polynomial kernel\n",
    "grid_poly = GridSearchCV(pipe, param_grid_poly, cv=5, scoring='accuracy')\n",
    "grid_poly.fit(X_train, y_train)\n",
    "\n",
    "# Best parameters and accuracy for Polynomial kernel\n",
    "print(\"Best parameters for Polynomial kernel:\", grid_poly.best_params_)\n",
    "print(\"Best accuracy for Polynomial kernel:\", grid_poly.best_score_)\n"
   ]
  },
  {
   "cell_type": "code",
   "execution_count": 11,
   "id": "189def4f-d89c-4701-99f8-18e97ebd9988",
   "metadata": {},
   "outputs": [
    {
     "name": "stdout",
     "output_type": "stream",
     "text": [
      "Test accuracy for RBF kernel: 0.5395348837209303\n",
      "Test accuracy for Polynomial kernel: 0.5116279069767442\n"
     ]
    }
   ],
   "source": [
    "# Evaluate RBF kernel on the test set\n",
    "best_rbf_model = grid_rbf.best_estimator_\n",
    "y_pred_rbf = best_rbf_model.predict(X_test)\n",
    "rbf_test_accuracy = accuracy_score(y_test, y_pred_rbf)\n",
    "print(\"Test accuracy for RBF kernel:\", rbf_test_accuracy)\n",
    "\n",
    "# Evaluate Polynomial kernel on the test set\n",
    "best_poly_model = grid_poly.best_estimator_\n",
    "y_pred_poly = best_poly_model.predict(X_test)\n",
    "poly_test_accuracy = accuracy_score(y_test, y_pred_poly)\n",
    "print(\"Test accuracy for Polynomial kernel:\", poly_test_accuracy)\n"
   ]
  },
  {
   "cell_type": "code",
   "execution_count": 12,
   "id": "378cba67-d2e2-44dd-8fce-523bc976bfab",
   "metadata": {},
   "outputs": [
    {
     "data": {
      "text/plain": [
       "['best_poly_model.pkl']"
      ]
     },
     "execution_count": 12,
     "metadata": {},
     "output_type": "execute_result"
    }
   ],
   "source": [
    "import joblib\n",
    "\n",
    "# Save the best-performing model\n",
    "joblib.dump(best_rbf_model, 'best_rbf_model.pkl')  # Save RBF model\n",
    "joblib.dump(best_poly_model, 'best_poly_model.pkl')  # Save Polynomial model\n"
   ]
  },
  {
   "cell_type": "code",
   "execution_count": null,
   "id": "54ba97d6-9ff0-4787-a5c5-cd61fa2de7e2",
   "metadata": {},
   "outputs": [],
   "source": []
  }
 ],
 "metadata": {
  "kernelspec": {
   "display_name": "Python 3 (ipykernel)",
   "language": "python",
   "name": "python3"
  },
  "language_info": {
   "codemirror_mode": {
    "name": "ipython",
    "version": 3
   },
   "file_extension": ".py",
   "mimetype": "text/x-python",
   "name": "python",
   "nbconvert_exporter": "python",
   "pygments_lexer": "ipython3",
   "version": "3.12.6"
  }
 },
 "nbformat": 4,
 "nbformat_minor": 5
}
